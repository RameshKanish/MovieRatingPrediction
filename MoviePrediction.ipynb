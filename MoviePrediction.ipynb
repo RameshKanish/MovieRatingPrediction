{
 "cells": [
  {
   "cell_type": "code",
   "execution_count": 1,
   "id": "98959c52",
   "metadata": {},
   "outputs": [],
   "source": [
    "import pandas as pd\n",
    "from sklearn.preprocessing import MultiLabelBinarizer\n",
    "from scipy import stats\n",
    "import seaborn as sns\n",
    "import matplotlib.pyplot as plt"
   ]
  },
  {
   "cell_type": "code",
   "execution_count": 2,
   "id": "e0d393cd",
   "metadata": {},
   "outputs": [
    {
     "data": {
      "text/html": [
       "<div>\n",
       "<style scoped>\n",
       "    .dataframe tbody tr th:only-of-type {\n",
       "        vertical-align: middle;\n",
       "    }\n",
       "\n",
       "    .dataframe tbody tr th {\n",
       "        vertical-align: top;\n",
       "    }\n",
       "\n",
       "    .dataframe thead th {\n",
       "        text-align: right;\n",
       "    }\n",
       "</style>\n",
       "<table border=\"1\" class=\"dataframe\">\n",
       "  <thead>\n",
       "    <tr style=\"text-align: right;\">\n",
       "      <th></th>\n",
       "      <th>movie_title</th>\n",
       "      <th>movie_info</th>\n",
       "      <th>critics_consensus</th>\n",
       "      <th>rating</th>\n",
       "      <th>genre</th>\n",
       "      <th>directors</th>\n",
       "      <th>writers</th>\n",
       "      <th>cast</th>\n",
       "      <th>in_theaters_date</th>\n",
       "      <th>on_streaming_date</th>\n",
       "      <th>runtime_in_minutes</th>\n",
       "      <th>studio_name</th>\n",
       "      <th>tomatometer_status</th>\n",
       "      <th>tomatometer_rating</th>\n",
       "      <th>tomatometer_count</th>\n",
       "      <th>audience_rating</th>\n",
       "    </tr>\n",
       "  </thead>\n",
       "  <tbody>\n",
       "    <tr>\n",
       "      <th>0</th>\n",
       "      <td>Percy Jackson &amp; the Olympians: The Lightning T...</td>\n",
       "      <td>A teenager discovers he's the descendant of a ...</td>\n",
       "      <td>Though it may seem like just another Harry Pot...</td>\n",
       "      <td>PG</td>\n",
       "      <td>Action &amp; Adventure, Comedy, Drama, Science Fic...</td>\n",
       "      <td>Chris Columbus</td>\n",
       "      <td>Craig Titley</td>\n",
       "      <td>Logan Lerman, Brandon T. Jackson, Alexandra Da...</td>\n",
       "      <td>2010-02-12</td>\n",
       "      <td>2010-06-29</td>\n",
       "      <td>83.0</td>\n",
       "      <td>20th Century Fox</td>\n",
       "      <td>Rotten</td>\n",
       "      <td>49</td>\n",
       "      <td>144</td>\n",
       "      <td>53.0</td>\n",
       "    </tr>\n",
       "    <tr>\n",
       "      <th>1</th>\n",
       "      <td>Please Give</td>\n",
       "      <td>Kate has a lot on her mind. There's the ethics...</td>\n",
       "      <td>Nicole Holofcener's newest might seem slight i...</td>\n",
       "      <td>R</td>\n",
       "      <td>Comedy</td>\n",
       "      <td>Nicole Holofcener</td>\n",
       "      <td>Nicole Holofcener</td>\n",
       "      <td>Catherine Keener, Amanda Peet, Oliver Platt, R...</td>\n",
       "      <td>2010-04-30</td>\n",
       "      <td>2010-10-19</td>\n",
       "      <td>90.0</td>\n",
       "      <td>Sony Pictures Classics</td>\n",
       "      <td>Certified Fresh</td>\n",
       "      <td>86</td>\n",
       "      <td>140</td>\n",
       "      <td>64.0</td>\n",
       "    </tr>\n",
       "    <tr>\n",
       "      <th>2</th>\n",
       "      <td>10</td>\n",
       "      <td>Blake Edwards' 10 stars Dudley Moore as George...</td>\n",
       "      <td>NaN</td>\n",
       "      <td>R</td>\n",
       "      <td>Comedy, Romance</td>\n",
       "      <td>Blake Edwards</td>\n",
       "      <td>Blake Edwards</td>\n",
       "      <td>Dudley Moore, Bo Derek, Julie Andrews, Robert ...</td>\n",
       "      <td>1979-10-05</td>\n",
       "      <td>1997-08-27</td>\n",
       "      <td>118.0</td>\n",
       "      <td>Waner Bros.</td>\n",
       "      <td>Fresh</td>\n",
       "      <td>68</td>\n",
       "      <td>22</td>\n",
       "      <td>53.0</td>\n",
       "    </tr>\n",
       "    <tr>\n",
       "      <th>3</th>\n",
       "      <td>12 Angry Men (Twelve Angry Men)</td>\n",
       "      <td>A Puerto Rican youth is on trial for murder, a...</td>\n",
       "      <td>Sidney Lumet's feature debut is a superbly wri...</td>\n",
       "      <td>NR</td>\n",
       "      <td>Classics, Drama</td>\n",
       "      <td>Sidney Lumet</td>\n",
       "      <td>Reginald Rose</td>\n",
       "      <td>Martin Balsam, John Fiedler, Lee J. Cobb, E.G....</td>\n",
       "      <td>1957-04-13</td>\n",
       "      <td>2001-03-06</td>\n",
       "      <td>95.0</td>\n",
       "      <td>Criterion Collection</td>\n",
       "      <td>Certified Fresh</td>\n",
       "      <td>100</td>\n",
       "      <td>51</td>\n",
       "      <td>97.0</td>\n",
       "    </tr>\n",
       "    <tr>\n",
       "      <th>4</th>\n",
       "      <td>20,000 Leagues Under The Sea</td>\n",
       "      <td>This 1954 Disney version of Jules Verne's 20,0...</td>\n",
       "      <td>One of Disney's finest live-action adventures,...</td>\n",
       "      <td>G</td>\n",
       "      <td>Action &amp; Adventure, Drama, Kids &amp; Family</td>\n",
       "      <td>Richard Fleischer</td>\n",
       "      <td>Earl Felton</td>\n",
       "      <td>James Mason, Kirk Douglas, Paul Lukas, Peter L...</td>\n",
       "      <td>1954-01-01</td>\n",
       "      <td>2003-05-20</td>\n",
       "      <td>127.0</td>\n",
       "      <td>Disney</td>\n",
       "      <td>Fresh</td>\n",
       "      <td>89</td>\n",
       "      <td>27</td>\n",
       "      <td>74.0</td>\n",
       "    </tr>\n",
       "  </tbody>\n",
       "</table>\n",
       "</div>"
      ],
      "text/plain": [
       "                                         movie_title  \\\n",
       "0  Percy Jackson & the Olympians: The Lightning T...   \n",
       "1                                        Please Give   \n",
       "2                                                 10   \n",
       "3                    12 Angry Men (Twelve Angry Men)   \n",
       "4                       20,000 Leagues Under The Sea   \n",
       "\n",
       "                                          movie_info  \\\n",
       "0  A teenager discovers he's the descendant of a ...   \n",
       "1  Kate has a lot on her mind. There's the ethics...   \n",
       "2  Blake Edwards' 10 stars Dudley Moore as George...   \n",
       "3  A Puerto Rican youth is on trial for murder, a...   \n",
       "4  This 1954 Disney version of Jules Verne's 20,0...   \n",
       "\n",
       "                                   critics_consensus rating  \\\n",
       "0  Though it may seem like just another Harry Pot...     PG   \n",
       "1  Nicole Holofcener's newest might seem slight i...      R   \n",
       "2                                                NaN      R   \n",
       "3  Sidney Lumet's feature debut is a superbly wri...     NR   \n",
       "4  One of Disney's finest live-action adventures,...      G   \n",
       "\n",
       "                                               genre          directors  \\\n",
       "0  Action & Adventure, Comedy, Drama, Science Fic...     Chris Columbus   \n",
       "1                                             Comedy  Nicole Holofcener   \n",
       "2                                    Comedy, Romance      Blake Edwards   \n",
       "3                                    Classics, Drama       Sidney Lumet   \n",
       "4           Action & Adventure, Drama, Kids & Family  Richard Fleischer   \n",
       "\n",
       "             writers                                               cast  \\\n",
       "0       Craig Titley  Logan Lerman, Brandon T. Jackson, Alexandra Da...   \n",
       "1  Nicole Holofcener  Catherine Keener, Amanda Peet, Oliver Platt, R...   \n",
       "2      Blake Edwards  Dudley Moore, Bo Derek, Julie Andrews, Robert ...   \n",
       "3      Reginald Rose  Martin Balsam, John Fiedler, Lee J. Cobb, E.G....   \n",
       "4        Earl Felton  James Mason, Kirk Douglas, Paul Lukas, Peter L...   \n",
       "\n",
       "  in_theaters_date on_streaming_date  runtime_in_minutes  \\\n",
       "0       2010-02-12        2010-06-29                83.0   \n",
       "1       2010-04-30        2010-10-19                90.0   \n",
       "2       1979-10-05        1997-08-27               118.0   \n",
       "3       1957-04-13        2001-03-06                95.0   \n",
       "4       1954-01-01        2003-05-20               127.0   \n",
       "\n",
       "              studio_name tomatometer_status  tomatometer_rating  \\\n",
       "0        20th Century Fox             Rotten                  49   \n",
       "1  Sony Pictures Classics    Certified Fresh                  86   \n",
       "2             Waner Bros.              Fresh                  68   \n",
       "3    Criterion Collection    Certified Fresh                 100   \n",
       "4                  Disney              Fresh                  89   \n",
       "\n",
       "   tomatometer_count  audience_rating  \n",
       "0                144             53.0  \n",
       "1                140             64.0  \n",
       "2                 22             53.0  \n",
       "3                 51             97.0  \n",
       "4                 27             74.0  "
      ]
     },
     "execution_count": 2,
     "metadata": {},
     "output_type": "execute_result"
    }
   ],
   "source": [
    "df = pd.read_excel(\"Rotten_Tomatoes_Movies3.xls\")\n",
    "df.head()"
   ]
  },
  {
   "cell_type": "code",
   "execution_count": 3,
   "id": "423d2813",
   "metadata": {},
   "outputs": [
    {
     "data": {
      "text/plain": [
       "Index(['movie_title', 'movie_info', 'critics_consensus', 'rating', 'genre',\n",
       "       'directors', 'writers', 'cast', 'in_theaters_date', 'on_streaming_date',\n",
       "       'runtime_in_minutes', 'studio_name', 'tomatometer_status',\n",
       "       'tomatometer_rating', 'tomatometer_count', 'audience_rating'],\n",
       "      dtype='object')"
      ]
     },
     "execution_count": 3,
     "metadata": {},
     "output_type": "execute_result"
    }
   ],
   "source": [
    "df.columns"
   ]
  },
  {
   "cell_type": "code",
   "execution_count": 4,
   "id": "f0016f5e",
   "metadata": {},
   "outputs": [
    {
     "data": {
      "text/html": [
       "<div>\n",
       "<style scoped>\n",
       "    .dataframe tbody tr th:only-of-type {\n",
       "        vertical-align: middle;\n",
       "    }\n",
       "\n",
       "    .dataframe tbody tr th {\n",
       "        vertical-align: top;\n",
       "    }\n",
       "\n",
       "    .dataframe thead th {\n",
       "        text-align: right;\n",
       "    }\n",
       "</style>\n",
       "<table border=\"1\" class=\"dataframe\">\n",
       "  <thead>\n",
       "    <tr style=\"text-align: right;\">\n",
       "      <th></th>\n",
       "      <th>rating</th>\n",
       "      <th>genre</th>\n",
       "      <th>runtime_in_minutes</th>\n",
       "      <th>tomatometer_rating</th>\n",
       "      <th>tomatometer_count</th>\n",
       "      <th>audience_rating</th>\n",
       "    </tr>\n",
       "  </thead>\n",
       "  <tbody>\n",
       "    <tr>\n",
       "      <th>0</th>\n",
       "      <td>PG</td>\n",
       "      <td>Action &amp; Adventure, Comedy, Drama, Science Fic...</td>\n",
       "      <td>83.0</td>\n",
       "      <td>49</td>\n",
       "      <td>144</td>\n",
       "      <td>53.0</td>\n",
       "    </tr>\n",
       "    <tr>\n",
       "      <th>1</th>\n",
       "      <td>R</td>\n",
       "      <td>Comedy</td>\n",
       "      <td>90.0</td>\n",
       "      <td>86</td>\n",
       "      <td>140</td>\n",
       "      <td>64.0</td>\n",
       "    </tr>\n",
       "    <tr>\n",
       "      <th>2</th>\n",
       "      <td>R</td>\n",
       "      <td>Comedy, Romance</td>\n",
       "      <td>118.0</td>\n",
       "      <td>68</td>\n",
       "      <td>22</td>\n",
       "      <td>53.0</td>\n",
       "    </tr>\n",
       "    <tr>\n",
       "      <th>3</th>\n",
       "      <td>NR</td>\n",
       "      <td>Classics, Drama</td>\n",
       "      <td>95.0</td>\n",
       "      <td>100</td>\n",
       "      <td>51</td>\n",
       "      <td>97.0</td>\n",
       "    </tr>\n",
       "    <tr>\n",
       "      <th>4</th>\n",
       "      <td>G</td>\n",
       "      <td>Action &amp; Adventure, Drama, Kids &amp; Family</td>\n",
       "      <td>127.0</td>\n",
       "      <td>89</td>\n",
       "      <td>27</td>\n",
       "      <td>74.0</td>\n",
       "    </tr>\n",
       "    <tr>\n",
       "      <th>...</th>\n",
       "      <td>...</td>\n",
       "      <td>...</td>\n",
       "      <td>...</td>\n",
       "      <td>...</td>\n",
       "      <td>...</td>\n",
       "      <td>...</td>\n",
       "    </tr>\n",
       "    <tr>\n",
       "      <th>16633</th>\n",
       "      <td>R</td>\n",
       "      <td>Drama, Musical &amp; Performing Arts</td>\n",
       "      <td>104.0</td>\n",
       "      <td>56</td>\n",
       "      <td>9</td>\n",
       "      <td>74.0</td>\n",
       "    </tr>\n",
       "    <tr>\n",
       "      <th>16634</th>\n",
       "      <td>PG</td>\n",
       "      <td>Action &amp; Adventure, Animation, Comedy</td>\n",
       "      <td>108.0</td>\n",
       "      <td>97</td>\n",
       "      <td>279</td>\n",
       "      <td>92.0</td>\n",
       "    </tr>\n",
       "    <tr>\n",
       "      <th>16635</th>\n",
       "      <td>NR</td>\n",
       "      <td>Action &amp; Adventure, Art House &amp; International,...</td>\n",
       "      <td>142.0</td>\n",
       "      <td>78</td>\n",
       "      <td>9</td>\n",
       "      <td>87.0</td>\n",
       "    </tr>\n",
       "    <tr>\n",
       "      <th>16636</th>\n",
       "      <td>PG</td>\n",
       "      <td>Classics, Drama</td>\n",
       "      <td>139.0</td>\n",
       "      <td>95</td>\n",
       "      <td>21</td>\n",
       "      <td>91.0</td>\n",
       "    </tr>\n",
       "    <tr>\n",
       "      <th>16637</th>\n",
       "      <td>PG</td>\n",
       "      <td>Action &amp; Adventure, Art House &amp; International,...</td>\n",
       "      <td>117.0</td>\n",
       "      <td>57</td>\n",
       "      <td>7</td>\n",
       "      <td>62.0</td>\n",
       "    </tr>\n",
       "  </tbody>\n",
       "</table>\n",
       "<p>16638 rows × 6 columns</p>\n",
       "</div>"
      ],
      "text/plain": [
       "      rating                                              genre  \\\n",
       "0         PG  Action & Adventure, Comedy, Drama, Science Fic...   \n",
       "1          R                                             Comedy   \n",
       "2          R                                    Comedy, Romance   \n",
       "3         NR                                    Classics, Drama   \n",
       "4          G           Action & Adventure, Drama, Kids & Family   \n",
       "...      ...                                                ...   \n",
       "16633      R                   Drama, Musical & Performing Arts   \n",
       "16634     PG              Action & Adventure, Animation, Comedy   \n",
       "16635     NR  Action & Adventure, Art House & International,...   \n",
       "16636     PG                                    Classics, Drama   \n",
       "16637     PG  Action & Adventure, Art House & International,...   \n",
       "\n",
       "       runtime_in_minutes  tomatometer_rating  tomatometer_count  \\\n",
       "0                    83.0                  49                144   \n",
       "1                    90.0                  86                140   \n",
       "2                   118.0                  68                 22   \n",
       "3                    95.0                 100                 51   \n",
       "4                   127.0                  89                 27   \n",
       "...                   ...                 ...                ...   \n",
       "16633               104.0                  56                  9   \n",
       "16634               108.0                  97                279   \n",
       "16635               142.0                  78                  9   \n",
       "16636               139.0                  95                 21   \n",
       "16637               117.0                  57                  7   \n",
       "\n",
       "       audience_rating  \n",
       "0                 53.0  \n",
       "1                 64.0  \n",
       "2                 53.0  \n",
       "3                 97.0  \n",
       "4                 74.0  \n",
       "...                ...  \n",
       "16633             74.0  \n",
       "16634             92.0  \n",
       "16635             87.0  \n",
       "16636             91.0  \n",
       "16637             62.0  \n",
       "\n",
       "[16638 rows x 6 columns]"
      ]
     },
     "execution_count": 4,
     "metadata": {},
     "output_type": "execute_result"
    }
   ],
   "source": [
    "df = df.drop(['movie_title', 'movie_info', 'critics_consensus', 'in_theaters_date', \n",
    "              'on_streaming_date', 'studio_name', 'tomatometer_status', \n",
    "              'directors', 'writers', 'cast'], axis=1)\n",
    "df"
   ]
  },
  {
   "cell_type": "code",
   "execution_count": 5,
   "id": "20eec10d",
   "metadata": {},
   "outputs": [
    {
     "name": "stdout",
     "output_type": "stream",
     "text": [
      "rating                  0\n",
      "genre                  17\n",
      "runtime_in_minutes    155\n",
      "tomatometer_rating      0\n",
      "tomatometer_count       0\n",
      "audience_rating       252\n",
      "dtype: int64\n"
     ]
    }
   ],
   "source": [
    "# Check for null values in each column\n",
    "null_counts = df.isnull().sum()\n",
    "print(null_counts)"
   ]
  },
  {
   "cell_type": "code",
   "execution_count": 6,
   "id": "582a7743",
   "metadata": {},
   "outputs": [
    {
     "name": "stdout",
     "output_type": "stream",
     "text": [
      "rating                0.000000\n",
      "genre                 0.102176\n",
      "runtime_in_minutes    0.931602\n",
      "tomatometer_rating    0.000000\n",
      "tomatometer_count     0.000000\n",
      "audience_rating       1.514605\n",
      "dtype: float64\n"
     ]
    }
   ],
   "source": [
    "missing_percentage = df.isnull().mean() * 100\n",
    "print(missing_percentage)"
   ]
  },
  {
   "cell_type": "code",
   "execution_count": 7,
   "id": "311849cd",
   "metadata": {},
   "outputs": [
    {
     "name": "stdout",
     "output_type": "stream",
     "text": [
      "rating                0\n",
      "genre                 0\n",
      "runtime_in_minutes    0\n",
      "tomatometer_rating    0\n",
      "tomatometer_count     0\n",
      "audience_rating       0\n",
      "dtype: int64\n"
     ]
    }
   ],
   "source": [
    "# Drop rows where any column has missing values\n",
    "df = df.dropna()\n",
    "\n",
    "# Verify that there are no missing values left\n",
    "print(df.isnull().sum())"
   ]
  },
  {
   "cell_type": "code",
   "execution_count": 8,
   "id": "034963cb",
   "metadata": {},
   "outputs": [
    {
     "data": {
      "text/plain": [
       "<AxesSubplot:>"
      ]
     },
     "execution_count": 8,
     "metadata": {},
     "output_type": "execute_result"
    },
    {
     "data": {
      "image/png": "[encoded data removed]",
      "text/plain": [
       "<Figure size 640x480 with 1 Axes>"
      ]
     },
     "metadata": {},
     "output_type": "display_data"
    }
   ],
   "source": [
    "# Visualize using boxplot for runtime_in_minutes\n",
    "df['runtime_in_minutes'].plot(kind='box')\n"
   ]
  },
  {
   "cell_type": "code",
   "execution_count": 9,
   "id": "7422e02d",
   "metadata": {},
   "outputs": [
    {
     "name": "stdout",
     "output_type": "stream",
     "text": [
      "      rating                                              genre  \\\n",
      "0         PG  Action & Adventure, Comedy, Drama, Science Fic...   \n",
      "1          R                                             Comedy   \n",
      "2          R                                    Comedy, Romance   \n",
      "3         NR                                    Classics, Drama   \n",
      "4          G           Action & Adventure, Drama, Kids & Family   \n",
      "...      ...                                                ...   \n",
      "16633      R                   Drama, Musical & Performing Arts   \n",
      "16634     PG              Action & Adventure, Animation, Comedy   \n",
      "16635     NR  Action & Adventure, Art House & International,...   \n",
      "16636     PG                                    Classics, Drama   \n",
      "16637     PG  Action & Adventure, Art House & International,...   \n",
      "\n",
      "       runtime_in_minutes  tomatometer_rating  tomatometer_count  \\\n",
      "0                    83.0                  49                144   \n",
      "1                    90.0                  86                140   \n",
      "2                   118.0                  68                 22   \n",
      "3                    95.0                 100                 51   \n",
      "4                   127.0                  89                 27   \n",
      "...                   ...                 ...                ...   \n",
      "16633               104.0                  56                  9   \n",
      "16634               108.0                  97                279   \n",
      "16635               142.0                  78                  9   \n",
      "16636               139.0                  95                 21   \n",
      "16637               117.0                  57                  7   \n",
      "\n",
      "       audience_rating  \n",
      "0                 53.0  \n",
      "1                 64.0  \n",
      "2                 53.0  \n",
      "3                 97.0  \n",
      "4                 74.0  \n",
      "...                ...  \n",
      "16633             74.0  \n",
      "16634             92.0  \n",
      "16635             87.0  \n",
      "16636             91.0  \n",
      "16637             62.0  \n",
      "\n",
      "[16133 rows x 6 columns]\n"
     ]
    }
   ],
   "source": [
    "outlier_rows = df[(df['runtime_in_minutes'] > 50) & (df['runtime_in_minutes']<250)]\n",
    "print(outlier_rows)"
   ]
  },
  {
   "cell_type": "code",
   "execution_count": 10,
   "id": "52b0e22b",
   "metadata": {},
   "outputs": [],
   "source": [
    "# Drop rows where runtime_in_minutes is greater than 250 or less than 40\n",
    "df = df[~((df['runtime_in_minutes'] > 250) | (df['runtime_in_minutes'] < 40))]\n"
   ]
  },
  {
   "cell_type": "code",
   "execution_count": 11,
   "id": "92663f19",
   "metadata": {},
   "outputs": [],
   "source": [
    "df['rating'] = df['rating'].str.replace(r'[^\\w\\s-]', '', regex=True)"
   ]
  },
  {
   "cell_type": "code",
   "execution_count": 12,
   "id": "3331d6ca",
   "metadata": {},
   "outputs": [
    {
     "data": {
      "text/plain": [
       "rating\n",
       "R        6057\n",
       "NR       4559\n",
       "PG-13    2835\n",
       "PG       2041\n",
       "G         648\n",
       "NC17       37\n",
       "Name: count, dtype: int64"
      ]
     },
     "execution_count": 12,
     "metadata": {},
     "output_type": "execute_result"
    }
   ],
   "source": [
    "rating_counts = df['rating'].value_counts()\n",
    "rating_counts"
   ]
  },
  {
   "cell_type": "code",
   "execution_count": 13,
   "id": "ae18c303",
   "metadata": {},
   "outputs": [
    {
     "name": "stdout",
     "output_type": "stream",
     "text": [
      "Outliers in 'tomatometer_rating': 0\n",
      "Outliers in 'tomatometer_count': 1120\n",
      "Outliers in 'audience_rating': 0\n"
     ]
    }
   ],
   "source": [
    "# Define a function to find outliers using IQR method\n",
    "def find_outliers(df, column):\n",
    "    Q1 = df[column].quantile(0.25)\n",
    "    Q3 = df[column].quantile(0.75)\n",
    "    IQR = Q3 - Q1\n",
    "    lower_bound = Q1 - 1.5 * IQR\n",
    "    upper_bound = Q3 + 1.5 * IQR\n",
    "    \n",
    "    # Find outliers\n",
    "    outliers = df[(df[column] < lower_bound) | (df[column] > upper_bound)]\n",
    "    return outliers\n",
    "\n",
    "# Check for outliers in the specified columns\n",
    "outliers_tomatometer_rating = find_outliers(df, 'tomatometer_rating')\n",
    "outliers_tomatometer_count = find_outliers(df, 'tomatometer_count')\n",
    "outliers_audience_rating = find_outliers(df, 'audience_rating')\n",
    "\n",
    "# Print the number of outliers in each column\n",
    "print(f\"Outliers in 'tomatometer_rating': {outliers_tomatometer_rating.shape[0]}\")\n",
    "print(f\"Outliers in 'tomatometer_count': {outliers_tomatometer_count.shape[0]}\")\n",
    "print(f\"Outliers in 'audience_rating': {outliers_audience_rating.shape[0]}\")\n"
   ]
  },
  {
   "cell_type": "code",
   "execution_count": 14,
   "id": "fc5185fe",
   "metadata": {},
   "outputs": [
    {
     "data": {
      "image/png": "[encoded data removed]",
      "text/plain": [
       "<Figure size 1800x600 with 3 Axes>"
      ]
     },
     "metadata": {},
     "output_type": "display_data"
    }
   ],
   "source": [
    "# Create a boxplot for each of the columns\n",
    "fig, axes = plt.subplots(1, 3, figsize=(18, 6))\n",
    "\n",
    "# Boxplot for 'tomatometer_rating'\n",
    "sns.boxplot(x=df['tomatometer_rating'], ax=axes[0])\n",
    "axes[0].set_title('Tomatometer Rating')\n",
    "\n",
    "# Boxplot for 'tomatometer_count'\n",
    "sns.boxplot(x=df['tomatometer_count'], ax=axes[1])\n",
    "axes[1].set_title('Tomatometer Count')\n",
    "\n",
    "# Boxplot for 'audience_rating'\n",
    "sns.boxplot(x=df['audience_rating'], ax=axes[2])\n",
    "axes[2].set_title('Audience Rating')\n",
    "\n",
    "# Display the plot\n",
    "plt.tight_layout()\n",
    "plt.show()"
   ]
  },
  {
   "cell_type": "code",
   "execution_count": 15,
   "id": "ce0d2aeb",
   "metadata": {},
   "outputs": [
    {
     "name": "stdout",
     "output_type": "stream",
     "text": [
      "Mean :  57.145700686159365\n",
      "Max :  497\n",
      "Min :  5\n"
     ]
    }
   ],
   "source": [
    "mean=df['tomatometer_count'].mean()\n",
    "print(\"Mean : \", mean)\n",
    "max=df['tomatometer_count'].max()\n",
    "print(\"Max : \", max)\n",
    "min=df['tomatometer_count'].min()\n",
    "print(\"Min : \", min)"
   ]
  },
  {
   "cell_type": "code",
   "execution_count": 16,
   "id": "c98dd8cc",
   "metadata": {},
   "outputs": [
    {
     "name": "stdout",
     "output_type": "stream",
     "text": [
      "count    15057.000000\n",
      "mean        43.728233\n",
      "std         43.431925\n",
      "min          5.000000\n",
      "25%         12.000000\n",
      "50%         26.000000\n",
      "75%         61.000000\n",
      "max        177.000000\n",
      "Name: tomatometer_count, dtype: float64\n"
     ]
    }
   ],
   "source": [
    "# Calculate the IQR\n",
    "Q1 = df['tomatometer_count'].quantile(0.25)\n",
    "Q3 = df['tomatometer_count'].quantile(0.75)\n",
    "IQR = Q3 - Q1\n",
    "\n",
    "# Calculate the lower and upper bounds\n",
    "lower_bound = Q1 - 1.5 * IQR\n",
    "upper_bound = Q3 + 1.5 * IQR\n",
    "\n",
    "# Filter out the rows where 'tomatometer_count' is outside the bounds\n",
    "df = df[(df['tomatometer_count'] >= lower_bound) & (df['tomatometer_count'] <= upper_bound)]\n",
    "\n",
    "# Check the result\n",
    "print(df['tomatometer_count'].describe())\n"
   ]
  },
  {
   "cell_type": "code",
   "execution_count": 17,
   "id": "ee2b2b8f",
   "metadata": {},
   "outputs": [
    {
     "name": "stdout",
     "output_type": "stream",
     "text": [
      "count    14084.000000\n",
      "mean        36.059642\n",
      "std         33.111315\n",
      "min          5.000000\n",
      "25%         11.000000\n",
      "50%         23.000000\n",
      "75%         50.000000\n",
      "max        134.000000\n",
      "Name: tomatometer_count, dtype: float64\n"
     ]
    }
   ],
   "source": [
    "# Calculate the IQR\n",
    "Q1 = df['tomatometer_count'].quantile(0.25)\n",
    "Q3 = df['tomatometer_count'].quantile(0.75)\n",
    "IQR = Q3 - Q1\n",
    "\n",
    "# Define the bounds for outliers\n",
    "lower_bound = Q1 - 1.5 * IQR\n",
    "upper_bound = Q3 + 1.5 * IQR\n",
    "\n",
    "# Filter the DataFrame to remove outliers\n",
    "df = df[(df['tomatometer_count'] >= lower_bound) & (df['tomatometer_count'] <= upper_bound)]\n",
    "\n",
    "# Verify the result\n",
    "print(df['tomatometer_count'].describe())"
   ]
  },
  {
   "cell_type": "code",
   "execution_count": 18,
   "id": "57cddf08",
   "metadata": {},
   "outputs": [],
   "source": [
    "df = pd.get_dummies(df, columns=['rating'], drop_first=True)"
   ]
  },
  {
   "cell_type": "code",
   "execution_count": 19,
   "id": "a2761d08",
   "metadata": {},
   "outputs": [
    {
     "data": {
      "text/html": [
       "<div>\n",
       "<style scoped>\n",
       "    .dataframe tbody tr th:only-of-type {\n",
       "        vertical-align: middle;\n",
       "    }\n",
       "\n",
       "    .dataframe tbody tr th {\n",
       "        vertical-align: top;\n",
       "    }\n",
       "\n",
       "    .dataframe thead th {\n",
       "        text-align: right;\n",
       "    }\n",
       "</style>\n",
       "<table border=\"1\" class=\"dataframe\">\n",
       "  <thead>\n",
       "    <tr style=\"text-align: right;\">\n",
       "      <th></th>\n",
       "      <th>genre</th>\n",
       "      <th>runtime_in_minutes</th>\n",
       "      <th>tomatometer_rating</th>\n",
       "      <th>tomatometer_count</th>\n",
       "      <th>audience_rating</th>\n",
       "      <th>rating_NC17</th>\n",
       "      <th>rating_NR</th>\n",
       "      <th>rating_PG</th>\n",
       "      <th>rating_PG-13</th>\n",
       "      <th>rating_R</th>\n",
       "    </tr>\n",
       "  </thead>\n",
       "  <tbody>\n",
       "    <tr>\n",
       "      <th>2</th>\n",
       "      <td>Comedy, Romance</td>\n",
       "      <td>118.0</td>\n",
       "      <td>68</td>\n",
       "      <td>22</td>\n",
       "      <td>53.0</td>\n",
       "      <td>False</td>\n",
       "      <td>False</td>\n",
       "      <td>False</td>\n",
       "      <td>False</td>\n",
       "      <td>True</td>\n",
       "    </tr>\n",
       "    <tr>\n",
       "      <th>3</th>\n",
       "      <td>Classics, Drama</td>\n",
       "      <td>95.0</td>\n",
       "      <td>100</td>\n",
       "      <td>51</td>\n",
       "      <td>97.0</td>\n",
       "      <td>False</td>\n",
       "      <td>True</td>\n",
       "      <td>False</td>\n",
       "      <td>False</td>\n",
       "      <td>False</td>\n",
       "    </tr>\n",
       "    <tr>\n",
       "      <th>4</th>\n",
       "      <td>Action &amp; Adventure, Drama, Kids &amp; Family</td>\n",
       "      <td>127.0</td>\n",
       "      <td>89</td>\n",
       "      <td>27</td>\n",
       "      <td>74.0</td>\n",
       "      <td>False</td>\n",
       "      <td>False</td>\n",
       "      <td>False</td>\n",
       "      <td>False</td>\n",
       "      <td>False</td>\n",
       "    </tr>\n",
       "    <tr>\n",
       "      <th>6</th>\n",
       "      <td>Action &amp; Adventure, Classics, Mystery &amp; Suspense</td>\n",
       "      <td>87.0</td>\n",
       "      <td>96</td>\n",
       "      <td>47</td>\n",
       "      <td>86.0</td>\n",
       "      <td>False</td>\n",
       "      <td>True</td>\n",
       "      <td>False</td>\n",
       "      <td>False</td>\n",
       "      <td>False</td>\n",
       "    </tr>\n",
       "    <tr>\n",
       "      <th>7</th>\n",
       "      <td>Classics, Drama, Western</td>\n",
       "      <td>92.0</td>\n",
       "      <td>96</td>\n",
       "      <td>27</td>\n",
       "      <td>78.0</td>\n",
       "      <td>False</td>\n",
       "      <td>True</td>\n",
       "      <td>False</td>\n",
       "      <td>False</td>\n",
       "      <td>False</td>\n",
       "    </tr>\n",
       "    <tr>\n",
       "      <th>...</th>\n",
       "      <td>...</td>\n",
       "      <td>...</td>\n",
       "      <td>...</td>\n",
       "      <td>...</td>\n",
       "      <td>...</td>\n",
       "      <td>...</td>\n",
       "      <td>...</td>\n",
       "      <td>...</td>\n",
       "      <td>...</td>\n",
       "      <td>...</td>\n",
       "    </tr>\n",
       "    <tr>\n",
       "      <th>16632</th>\n",
       "      <td>Action &amp; Adventure, Comedy, Kids &amp; Family</td>\n",
       "      <td>88.0</td>\n",
       "      <td>3</td>\n",
       "      <td>66</td>\n",
       "      <td>33.0</td>\n",
       "      <td>False</td>\n",
       "      <td>False</td>\n",
       "      <td>True</td>\n",
       "      <td>False</td>\n",
       "      <td>False</td>\n",
       "    </tr>\n",
       "    <tr>\n",
       "      <th>16633</th>\n",
       "      <td>Drama, Musical &amp; Performing Arts</td>\n",
       "      <td>104.0</td>\n",
       "      <td>56</td>\n",
       "      <td>9</td>\n",
       "      <td>74.0</td>\n",
       "      <td>False</td>\n",
       "      <td>False</td>\n",
       "      <td>False</td>\n",
       "      <td>False</td>\n",
       "      <td>True</td>\n",
       "    </tr>\n",
       "    <tr>\n",
       "      <th>16635</th>\n",
       "      <td>Action &amp; Adventure, Art House &amp; International,...</td>\n",
       "      <td>142.0</td>\n",
       "      <td>78</td>\n",
       "      <td>9</td>\n",
       "      <td>87.0</td>\n",
       "      <td>False</td>\n",
       "      <td>True</td>\n",
       "      <td>False</td>\n",
       "      <td>False</td>\n",
       "      <td>False</td>\n",
       "    </tr>\n",
       "    <tr>\n",
       "      <th>16636</th>\n",
       "      <td>Classics, Drama</td>\n",
       "      <td>139.0</td>\n",
       "      <td>95</td>\n",
       "      <td>21</td>\n",
       "      <td>91.0</td>\n",
       "      <td>False</td>\n",
       "      <td>False</td>\n",
       "      <td>True</td>\n",
       "      <td>False</td>\n",
       "      <td>False</td>\n",
       "    </tr>\n",
       "    <tr>\n",
       "      <th>16637</th>\n",
       "      <td>Action &amp; Adventure, Art House &amp; International,...</td>\n",
       "      <td>117.0</td>\n",
       "      <td>57</td>\n",
       "      <td>7</td>\n",
       "      <td>62.0</td>\n",
       "      <td>False</td>\n",
       "      <td>False</td>\n",
       "      <td>True</td>\n",
       "      <td>False</td>\n",
       "      <td>False</td>\n",
       "    </tr>\n",
       "  </tbody>\n",
       "</table>\n",
       "<p>14084 rows × 10 columns</p>\n",
       "</div>"
      ],
      "text/plain": [
       "                                                   genre  runtime_in_minutes  \\\n",
       "2                                        Comedy, Romance               118.0   \n",
       "3                                        Classics, Drama                95.0   \n",
       "4               Action & Adventure, Drama, Kids & Family               127.0   \n",
       "6       Action & Adventure, Classics, Mystery & Suspense                87.0   \n",
       "7                               Classics, Drama, Western                92.0   \n",
       "...                                                  ...                 ...   \n",
       "16632          Action & Adventure, Comedy, Kids & Family                88.0   \n",
       "16633                   Drama, Musical & Performing Arts               104.0   \n",
       "16635  Action & Adventure, Art House & International,...               142.0   \n",
       "16636                                    Classics, Drama               139.0   \n",
       "16637  Action & Adventure, Art House & International,...               117.0   \n",
       "\n",
       "       tomatometer_rating  tomatometer_count  audience_rating  rating_NC17  \\\n",
       "2                      68                 22             53.0        False   \n",
       "3                     100                 51             97.0        False   \n",
       "4                      89                 27             74.0        False   \n",
       "6                      96                 47             86.0        False   \n",
       "7                      96                 27             78.0        False   \n",
       "...                   ...                ...              ...          ...   \n",
       "16632                   3                 66             33.0        False   \n",
       "16633                  56                  9             74.0        False   \n",
       "16635                  78                  9             87.0        False   \n",
       "16636                  95                 21             91.0        False   \n",
       "16637                  57                  7             62.0        False   \n",
       "\n",
       "       rating_NR  rating_PG  rating_PG-13  rating_R  \n",
       "2          False      False         False      True  \n",
       "3           True      False         False     False  \n",
       "4          False      False         False     False  \n",
       "6           True      False         False     False  \n",
       "7           True      False         False     False  \n",
       "...          ...        ...           ...       ...  \n",
       "16632      False       True         False     False  \n",
       "16633      False      False         False      True  \n",
       "16635       True      False         False     False  \n",
       "16636      False       True         False     False  \n",
       "16637      False       True         False     False  \n",
       "\n",
       "[14084 rows x 10 columns]"
      ]
     },
     "execution_count": 19,
     "metadata": {},
     "output_type": "execute_result"
    }
   ],
   "source": [
    "df"
   ]
  },
  {
   "cell_type": "code",
   "execution_count": 20,
   "id": "1a208e71",
   "metadata": {},
   "outputs": [],
   "source": [
    "# Step 1: Split the genre column into a list of genres\n",
    "df['genre'] = df['genre'].apply(lambda x: x.split(', ') if isinstance(x, str) else [])"
   ]
  },
  {
   "cell_type": "code",
   "execution_count": 21,
   "id": "d61886fb",
   "metadata": {},
   "outputs": [],
   "source": [
    "## Step 2: Use MultiLabelBinarizer to convert genres into separate binary columns\n",
    "mlb = MultiLabelBinarizer()\n",
    "genre_encoded = mlb.fit_transform(df['genre'])\n",
    "genre_df = pd.DataFrame(genre_encoded, columns=mlb.classes_)"
   ]
  },
  {
   "cell_type": "code",
   "execution_count": 22,
   "id": "a3aad911",
   "metadata": {},
   "outputs": [
    {
     "name": "stdout",
     "output_type": "stream",
     "text": [
      "   runtime_in_minutes  tomatometer_rating  tomatometer_count  audience_rating  \\\n",
      "0               118.0                  68                 22             53.0   \n",
      "1                95.0                 100                 51             97.0   \n",
      "2               127.0                  89                 27             74.0   \n",
      "3                87.0                  96                 47             86.0   \n",
      "4                92.0                  96                 27             78.0   \n",
      "\n",
      "   rating_NC17  rating_NR  rating_PG  rating_PG-13  rating_R  \\\n",
      "0        False      False      False         False      True   \n",
      "1        False       True      False         False     False   \n",
      "2        False      False      False         False     False   \n",
      "3        False       True      False         False     False   \n",
      "4        False       True      False         False     False   \n",
      "\n",
      "   Action & Adventure  ...  Horror  Kids & Family  Musical & Performing Arts  \\\n",
      "0                   0  ...       0              0                          0   \n",
      "1                   0  ...       0              0                          0   \n",
      "2                   1  ...       0              1                          0   \n",
      "3                   1  ...       0              0                          0   \n",
      "4                   0  ...       0              0                          0   \n",
      "\n",
      "   Mystery & Suspense  Romance  Science Fiction & Fantasy  Special Interest  \\\n",
      "0                   0        1                          0                 0   \n",
      "1                   0        0                          0                 0   \n",
      "2                   0        0                          0                 0   \n",
      "3                   1        0                          0                 0   \n",
      "4                   0        0                          0                 0   \n",
      "\n",
      "   Sports & Fitness  Television  Western  \n",
      "0                 0           0        0  \n",
      "1                 0           0        0  \n",
      "2                 0           0        0  \n",
      "3                 0           0        0  \n",
      "4                 0           0        1  \n",
      "\n",
      "[5 rows x 30 columns]\n",
      "Number of rows: 14084\n",
      "Number of columns: 30\n"
     ]
    }
   ],
   "source": [
    "df.reset_index(drop=True, inplace=True)\n",
    "genre_df.reset_index(drop=True, inplace=True)\n",
    "# Step 4: Concatenate the genre DataFrame back to the original DataFrame\n",
    "df = pd.concat([df, genre_df], axis=1)\n",
    "\n",
    "# Step 5: Optionally, drop the original 'genre' column if no longer needed\n",
    "df = df.drop('genre', axis=1)\n",
    "\n",
    "df.head()"
   ]
  },
  {
   "cell_type": "code",
   "execution_count": 24,
   "id": "60c577bd",
   "metadata": {},
   "outputs": [],
   "source": [
    "from sklearn.model_selection import train_test_split\n",
    "\n",
    "X = df.drop('audience_rating', axis=1)  # Features\n",
    "y = df['audience_rating']  # Target variable\n",
    "\n",
    "X_train, X_test, y_train, y_test = train_test_split(X, y, test_size=0.2, random_state=42)\n"
   ]
  },
  {
   "cell_type": "code",
   "execution_count": 25,
   "id": "4561b069",
   "metadata": {},
   "outputs": [
    {
     "name": "stdout",
     "output_type": "stream",
     "text": [
      "Linear Regression - Mean Squared Error: 210.22006598240276\n",
      "Linear Regression -R^2 Score: 0.514433514970807\n"
     ]
    }
   ],
   "source": [
    "from sklearn.linear_model import LinearRegression\n",
    "from sklearn.metrics import mean_squared_error, r2_score\n",
    "\n",
    "model = LinearRegression()\n",
    "model.fit(X_train, y_train)\n",
    "\n",
    "# Predictions\n",
    "y_pred = model.predict(X_test)\n",
    "\n",
    "# Evaluate the model\n",
    "print(\"Linear Regression - Mean Squared Error:\", mean_squared_error(y_test, y_pred))\n",
    "print(\"Linear Regression -R^2 Score:\", r2_score(y_test, y_pred))"
   ]
  },
  {
   "cell_type": "code",
   "execution_count": 26,
   "id": "7a9a6d30",
   "metadata": {},
   "outputs": [
    {
     "name": "stdout",
     "output_type": "stream",
     "text": [
      "Random Forest Regressor - MSE: 212.72735994357845\n",
      "Random Forest Regressor - R²: 0.5086421652727011\n"
     ]
    }
   ],
   "source": [
    "from sklearn.ensemble import RandomForestRegressor\n",
    "rf_model = RandomForestRegressor(n_estimators=100, random_state=42)\n",
    "\n",
    "# Train the model\n",
    "rf_model.fit(X_train, y_train)\n",
    "\n",
    "# Predictions\n",
    "rf_y_pred = rf_model.predict(X_test)\n",
    "\n",
    "# Calculate performance metrics\n",
    "rf_mse = mean_squared_error(y_test, rf_y_pred)\n",
    "rf_r2 = r2_score(y_test, rf_y_pred)\n",
    "\n",
    "print(f\"Random Forest Regressor - MSE: {rf_mse}\")\n",
    "print(f\"Random Forest Regressor - R²: {rf_r2}\")"
   ]
  },
  {
   "cell_type": "code",
   "execution_count": 27,
   "id": "1b06f38b",
   "metadata": {},
   "outputs": [
    {
     "name": "stdout",
     "output_type": "stream",
     "text": [
      "Gradient Boosting Regressor - MSE: 196.6443642212927\n",
      "Gradient Boosting Regressor - R²: 0.5457906823046743\n"
     ]
    }
   ],
   "source": [
    "from sklearn.ensemble import GradientBoostingRegressor\n",
    "# Initialize the model\n",
    "gb_model = GradientBoostingRegressor(n_estimators=100, random_state=42)\n",
    "\n",
    "# Train the model\n",
    "gb_model.fit(X_train, y_train)\n",
    "\n",
    "# Predictions\n",
    "gb_y_pred = gb_model.predict(X_test)\n",
    "\n",
    "# Calculate performance metrics\n",
    "gb_mse = mean_squared_error(y_test, gb_y_pred)\n",
    "gb_r2 = r2_score(y_test, gb_y_pred)\n",
    "\n",
    "print(f\"Gradient Boosting Regressor - MSE: {gb_mse}\")\n",
    "print(f\"Gradient Boosting Regressor - R²: {gb_r2}\")"
   ]
  },
  {
   "cell_type": "code",
   "execution_count": 28,
   "id": "fa5d44ae",
   "metadata": {},
   "outputs": [
    {
     "name": "stdout",
     "output_type": "stream",
     "text": [
      "Support Vector Regressor - MSE: 228.1814042553991\n",
      "Support Vector Regressor - R²: 0.4729464007370535\n"
     ]
    }
   ],
   "source": [
    "from sklearn.svm import SVR\n",
    "\n",
    "# Initialize the model\n",
    "svr_model = SVR(kernel='rbf')\n",
    "\n",
    "# Train the model\n",
    "svr_model.fit(X_train, y_train)\n",
    "\n",
    "# Predictions\n",
    "svr_y_pred = svr_model.predict(X_test)\n",
    "\n",
    "# Calculate performance metrics\n",
    "svr_mse = mean_squared_error(y_test, svr_y_pred)\n",
    "svr_r2 = r2_score(y_test, svr_y_pred)\n",
    "\n",
    "print(f\"Support Vector Regressor - MSE: {svr_mse}\")\n",
    "print(f\"Support Vector Regressor - R²: {svr_r2}\")\n"
   ]
  },
  {
   "cell_type": "code",
   "execution_count": 29,
   "id": "d3b26bd8",
   "metadata": {},
   "outputs": [
    {
     "name": "stdout",
     "output_type": "stream",
     "text": [
      "KNN Regressor - MSE: 263.5081292154774\n",
      "KNN Regressor - R²: 0.391348701743399\n"
     ]
    }
   ],
   "source": [
    "from sklearn.neighbors import KNeighborsRegressor\n",
    "\n",
    "# Initialize the model\n",
    "knn_model = KNeighborsRegressor(n_neighbors=5)\n",
    "\n",
    "# Train the model\n",
    "knn_model.fit(X_train, y_train)\n",
    "\n",
    "# Predictions\n",
    "knn_y_pred = knn_model.predict(X_test)\n",
    "\n",
    "# Calculate performance metrics\n",
    "knn_mse = mean_squared_error(y_test, knn_y_pred)\n",
    "knn_r2 = r2_score(y_test, knn_y_pred)\n",
    "\n",
    "print(f\"KNN Regressor - MSE: {knn_mse}\")\n",
    "print(f\"KNN Regressor - R²: {knn_r2}\")\n"
   ]
  },
  {
   "cell_type": "code",
   "execution_count": null,
   "id": "b6a3decc",
   "metadata": {},
   "outputs": [],
   "source": []
  }
 ],
 "metadata": {
  "kernelspec": {
   "display_name": "Python 3 (ipykernel)",
   "language": "python",
   "name": "python3"
  },
  "language_info": {
   "codemirror_mode": {
    "name": "ipython",
    "version": 3
   },
   "file_extension": ".py",
   "mimetype": "text/x-python",
   "name": "python",
   "nbconvert_exporter": "python",
   "pygments_lexer": "ipython3",
   "version": "3.8.8"
  }
 },
 "nbformat": 4,
 "nbformat_minor": 5
}
